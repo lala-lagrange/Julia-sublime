{
  "nbformat": 4,
  "nbformat_minor": 0,
  "metadata": {
    "colab": {
      "provenance": [],
      "authorship_tag": "ABX9TyNhuP+u6tanADWHyad300/H",
      "include_colab_link": true
    },
    "kernelspec": {
      "name": "python3",
      "display_name": "Python 3"
    },
    "language_info": {
      "name": "python"
    }
  },
  "cells": [
    {
      "cell_type": "markdown",
      "metadata": {
        "id": "view-in-github",
        "colab_type": "text"
      },
      "source": [
        "<a href=\"https://colab.research.google.com/github/lala-lagrange/Julia-sublime/blob/master/SIMPLE_NEURAL_NETWORK.ipynb\" target=\"_parent\"><img src=\"https://colab.research.google.com/assets/colab-badge.svg\" alt=\"Open In Colab\"/></a>"
      ]
    },
    {
      "cell_type": "code",
      "execution_count": 1,
      "metadata": {
        "colab": {
          "base_uri": "https://localhost:8080/",
          "height": 74
        },
        "id": "z-uMhvl-LG5m",
        "outputId": "9e3ebc4f-3589-4868-84b7-555a6ee4f039"
      },
      "outputs": [
        {
          "output_type": "display_data",
          "data": {
            "text/plain": [
              "<IPython.core.display.HTML object>"
            ],
            "text/html": [
              "\n",
              "     <input type=\"file\" id=\"files-bf9eba0d-9215-4fc7-839f-f089f013b617\" name=\"files[]\" multiple disabled\n",
              "        style=\"border:none\" />\n",
              "     <output id=\"result-bf9eba0d-9215-4fc7-839f-f089f013b617\">\n",
              "      Upload widget is only available when the cell has been executed in the\n",
              "      current browser session. Please rerun this cell to enable.\n",
              "      </output>\n",
              "      <script>// Copyright 2017 Google LLC\n",
              "//\n",
              "// Licensed under the Apache License, Version 2.0 (the \"License\");\n",
              "// you may not use this file except in compliance with the License.\n",
              "// You may obtain a copy of the License at\n",
              "//\n",
              "//      http://www.apache.org/licenses/LICENSE-2.0\n",
              "//\n",
              "// Unless required by applicable law or agreed to in writing, software\n",
              "// distributed under the License is distributed on an \"AS IS\" BASIS,\n",
              "// WITHOUT WARRANTIES OR CONDITIONS OF ANY KIND, either express or implied.\n",
              "// See the License for the specific language governing permissions and\n",
              "// limitations under the License.\n",
              "\n",
              "/**\n",
              " * @fileoverview Helpers for google.colab Python module.\n",
              " */\n",
              "(function(scope) {\n",
              "function span(text, styleAttributes = {}) {\n",
              "  const element = document.createElement('span');\n",
              "  element.textContent = text;\n",
              "  for (const key of Object.keys(styleAttributes)) {\n",
              "    element.style[key] = styleAttributes[key];\n",
              "  }\n",
              "  return element;\n",
              "}\n",
              "\n",
              "// Max number of bytes which will be uploaded at a time.\n",
              "const MAX_PAYLOAD_SIZE = 100 * 1024;\n",
              "\n",
              "function _uploadFiles(inputId, outputId) {\n",
              "  const steps = uploadFilesStep(inputId, outputId);\n",
              "  const outputElement = document.getElementById(outputId);\n",
              "  // Cache steps on the outputElement to make it available for the next call\n",
              "  // to uploadFilesContinue from Python.\n",
              "  outputElement.steps = steps;\n",
              "\n",
              "  return _uploadFilesContinue(outputId);\n",
              "}\n",
              "\n",
              "// This is roughly an async generator (not supported in the browser yet),\n",
              "// where there are multiple asynchronous steps and the Python side is going\n",
              "// to poll for completion of each step.\n",
              "// This uses a Promise to block the python side on completion of each step,\n",
              "// then passes the result of the previous step as the input to the next step.\n",
              "function _uploadFilesContinue(outputId) {\n",
              "  const outputElement = document.getElementById(outputId);\n",
              "  const steps = outputElement.steps;\n",
              "\n",
              "  const next = steps.next(outputElement.lastPromiseValue);\n",
              "  return Promise.resolve(next.value.promise).then((value) => {\n",
              "    // Cache the last promise value to make it available to the next\n",
              "    // step of the generator.\n",
              "    outputElement.lastPromiseValue = value;\n",
              "    return next.value.response;\n",
              "  });\n",
              "}\n",
              "\n",
              "/**\n",
              " * Generator function which is called between each async step of the upload\n",
              " * process.\n",
              " * @param {string} inputId Element ID of the input file picker element.\n",
              " * @param {string} outputId Element ID of the output display.\n",
              " * @return {!Iterable<!Object>} Iterable of next steps.\n",
              " */\n",
              "function* uploadFilesStep(inputId, outputId) {\n",
              "  const inputElement = document.getElementById(inputId);\n",
              "  inputElement.disabled = false;\n",
              "\n",
              "  const outputElement = document.getElementById(outputId);\n",
              "  outputElement.innerHTML = '';\n",
              "\n",
              "  const pickedPromise = new Promise((resolve) => {\n",
              "    inputElement.addEventListener('change', (e) => {\n",
              "      resolve(e.target.files);\n",
              "    });\n",
              "  });\n",
              "\n",
              "  const cancel = document.createElement('button');\n",
              "  inputElement.parentElement.appendChild(cancel);\n",
              "  cancel.textContent = 'Cancel upload';\n",
              "  const cancelPromise = new Promise((resolve) => {\n",
              "    cancel.onclick = () => {\n",
              "      resolve(null);\n",
              "    };\n",
              "  });\n",
              "\n",
              "  // Wait for the user to pick the files.\n",
              "  const files = yield {\n",
              "    promise: Promise.race([pickedPromise, cancelPromise]),\n",
              "    response: {\n",
              "      action: 'starting',\n",
              "    }\n",
              "  };\n",
              "\n",
              "  cancel.remove();\n",
              "\n",
              "  // Disable the input element since further picks are not allowed.\n",
              "  inputElement.disabled = true;\n",
              "\n",
              "  if (!files) {\n",
              "    return {\n",
              "      response: {\n",
              "        action: 'complete',\n",
              "      }\n",
              "    };\n",
              "  }\n",
              "\n",
              "  for (const file of files) {\n",
              "    const li = document.createElement('li');\n",
              "    li.append(span(file.name, {fontWeight: 'bold'}));\n",
              "    li.append(span(\n",
              "        `(${file.type || 'n/a'}) - ${file.size} bytes, ` +\n",
              "        `last modified: ${\n",
              "            file.lastModifiedDate ? file.lastModifiedDate.toLocaleDateString() :\n",
              "                                    'n/a'} - `));\n",
              "    const percent = span('0% done');\n",
              "    li.appendChild(percent);\n",
              "\n",
              "    outputElement.appendChild(li);\n",
              "\n",
              "    const fileDataPromise = new Promise((resolve) => {\n",
              "      const reader = new FileReader();\n",
              "      reader.onload = (e) => {\n",
              "        resolve(e.target.result);\n",
              "      };\n",
              "      reader.readAsArrayBuffer(file);\n",
              "    });\n",
              "    // Wait for the data to be ready.\n",
              "    let fileData = yield {\n",
              "      promise: fileDataPromise,\n",
              "      response: {\n",
              "        action: 'continue',\n",
              "      }\n",
              "    };\n",
              "\n",
              "    // Use a chunked sending to avoid message size limits. See b/62115660.\n",
              "    let position = 0;\n",
              "    do {\n",
              "      const length = Math.min(fileData.byteLength - position, MAX_PAYLOAD_SIZE);\n",
              "      const chunk = new Uint8Array(fileData, position, length);\n",
              "      position += length;\n",
              "\n",
              "      const base64 = btoa(String.fromCharCode.apply(null, chunk));\n",
              "      yield {\n",
              "        response: {\n",
              "          action: 'append',\n",
              "          file: file.name,\n",
              "          data: base64,\n",
              "        },\n",
              "      };\n",
              "\n",
              "      let percentDone = fileData.byteLength === 0 ?\n",
              "          100 :\n",
              "          Math.round((position / fileData.byteLength) * 100);\n",
              "      percent.textContent = `${percentDone}% done`;\n",
              "\n",
              "    } while (position < fileData.byteLength);\n",
              "  }\n",
              "\n",
              "  // All done.\n",
              "  yield {\n",
              "    response: {\n",
              "      action: 'complete',\n",
              "    }\n",
              "  };\n",
              "}\n",
              "\n",
              "scope.google = scope.google || {};\n",
              "scope.google.colab = scope.google.colab || {};\n",
              "scope.google.colab._files = {\n",
              "  _uploadFiles,\n",
              "  _uploadFilesContinue,\n",
              "};\n",
              "})(self);\n",
              "</script> "
            ]
          },
          "metadata": {}
        },
        {
          "output_type": "stream",
          "name": "stdout",
          "text": [
            "Saving kaggle.json to kaggle.json\n"
          ]
        }
      ],
      "source": [
        "! pip install -q kaggle\n",
        "\n",
        "from google.colab import files\n",
        "files.upload()\n",
        "\n",
        "! mkdir ~/.kaggle\n",
        "! cp kaggle.json ~/.kaggle/\n",
        "\n",
        "! chmod 600 ~/.kaggle/kaggle.json"
      ]
    },
    {
      "cell_type": "code",
      "source": [
        "! kaggle competitions download -c digit-recognizer"
      ],
      "metadata": {
        "colab": {
          "base_uri": "https://localhost:8080/"
        },
        "id": "AndbnavpLjvU",
        "outputId": "bf7522a0-8ab6-4ed2-d7e6-a89461ec01cd"
      },
      "execution_count": 2,
      "outputs": [
        {
          "output_type": "stream",
          "name": "stdout",
          "text": [
            "Downloading digit-recognizer.zip to /content\n",
            " 33% 5.00M/15.3M [00:00<00:00, 41.5MB/s]\n",
            "100% 15.3M/15.3M [00:00<00:00, 95.7MB/s]\n"
          ]
        }
      ]
    },
    {
      "cell_type": "code",
      "source": [
        "!unzip digit-recognizer.zip"
      ],
      "metadata": {
        "colab": {
          "base_uri": "https://localhost:8080/"
        },
        "id": "LZVs7fbKMp3M",
        "outputId": "9a08ff34-cb58-416a-c87a-80da11841fae"
      },
      "execution_count": 3,
      "outputs": [
        {
          "output_type": "stream",
          "name": "stdout",
          "text": [
            "Archive:  digit-recognizer.zip\n",
            "  inflating: sample_submission.csv   \n",
            "  inflating: test.csv                \n",
            "  inflating: train.csv               \n"
          ]
        }
      ]
    },
    {
      "cell_type": "code",
      "source": [
        "import numpy as np\n",
        "import pandas as pd\n",
        "import matplotlib.pyplot as plt"
      ],
      "metadata": {
        "id": "uEpMnFQOM8H8"
      },
      "execution_count": 5,
      "outputs": []
    },
    {
      "cell_type": "code",
      "source": [
        "data = pd.read_csv(\"/content/train.csv\")#reading the dataset"
      ],
      "metadata": {
        "id": "bpDNOddIMumz"
      },
      "execution_count": 6,
      "outputs": []
    },
    {
      "cell_type": "code",
      "source": [
        "data.head()#printing first 5 rows of the dataset"
      ],
      "metadata": {
        "colab": {
          "base_uri": "https://localhost:8080/",
          "height": 299
        },
        "id": "MFgrmrwAM5hy",
        "outputId": "0834354d-3254-4acb-836f-0283d568a38c"
      },
      "execution_count": 7,
      "outputs": [
        {
          "output_type": "execute_result",
          "data": {
            "text/plain": [
              "   label  pixel0  pixel1  pixel2  pixel3  pixel4  pixel5  pixel6  pixel7  \\\n",
              "0      1       0       0       0       0       0       0       0       0   \n",
              "1      0       0       0       0       0       0       0       0       0   \n",
              "2      1       0       0       0       0       0       0       0       0   \n",
              "3      4       0       0       0       0       0       0       0       0   \n",
              "4      0       0       0       0       0       0       0       0       0   \n",
              "\n",
              "   pixel8  ...  pixel774  pixel775  pixel776  pixel777  pixel778  pixel779  \\\n",
              "0       0  ...         0         0         0         0         0         0   \n",
              "1       0  ...         0         0         0         0         0         0   \n",
              "2       0  ...         0         0         0         0         0         0   \n",
              "3       0  ...         0         0         0         0         0         0   \n",
              "4       0  ...         0         0         0         0         0         0   \n",
              "\n",
              "   pixel780  pixel781  pixel782  pixel783  \n",
              "0         0         0         0         0  \n",
              "1         0         0         0         0  \n",
              "2         0         0         0         0  \n",
              "3         0         0         0         0  \n",
              "4         0         0         0         0  \n",
              "\n",
              "[5 rows x 785 columns]"
            ],
            "text/html": [
              "\n",
              "  <div id=\"df-e72568a1-9dd9-47bf-ad74-8796d4c5bf6f\">\n",
              "    <div class=\"colab-df-container\">\n",
              "      <div>\n",
              "<style scoped>\n",
              "    .dataframe tbody tr th:only-of-type {\n",
              "        vertical-align: middle;\n",
              "    }\n",
              "\n",
              "    .dataframe tbody tr th {\n",
              "        vertical-align: top;\n",
              "    }\n",
              "\n",
              "    .dataframe thead th {\n",
              "        text-align: right;\n",
              "    }\n",
              "</style>\n",
              "<table border=\"1\" class=\"dataframe\">\n",
              "  <thead>\n",
              "    <tr style=\"text-align: right;\">\n",
              "      <th></th>\n",
              "      <th>label</th>\n",
              "      <th>pixel0</th>\n",
              "      <th>pixel1</th>\n",
              "      <th>pixel2</th>\n",
              "      <th>pixel3</th>\n",
              "      <th>pixel4</th>\n",
              "      <th>pixel5</th>\n",
              "      <th>pixel6</th>\n",
              "      <th>pixel7</th>\n",
              "      <th>pixel8</th>\n",
              "      <th>...</th>\n",
              "      <th>pixel774</th>\n",
              "      <th>pixel775</th>\n",
              "      <th>pixel776</th>\n",
              "      <th>pixel777</th>\n",
              "      <th>pixel778</th>\n",
              "      <th>pixel779</th>\n",
              "      <th>pixel780</th>\n",
              "      <th>pixel781</th>\n",
              "      <th>pixel782</th>\n",
              "      <th>pixel783</th>\n",
              "    </tr>\n",
              "  </thead>\n",
              "  <tbody>\n",
              "    <tr>\n",
              "      <th>0</th>\n",
              "      <td>1</td>\n",
              "      <td>0</td>\n",
              "      <td>0</td>\n",
              "      <td>0</td>\n",
              "      <td>0</td>\n",
              "      <td>0</td>\n",
              "      <td>0</td>\n",
              "      <td>0</td>\n",
              "      <td>0</td>\n",
              "      <td>0</td>\n",
              "      <td>...</td>\n",
              "      <td>0</td>\n",
              "      <td>0</td>\n",
              "      <td>0</td>\n",
              "      <td>0</td>\n",
              "      <td>0</td>\n",
              "      <td>0</td>\n",
              "      <td>0</td>\n",
              "      <td>0</td>\n",
              "      <td>0</td>\n",
              "      <td>0</td>\n",
              "    </tr>\n",
              "    <tr>\n",
              "      <th>1</th>\n",
              "      <td>0</td>\n",
              "      <td>0</td>\n",
              "      <td>0</td>\n",
              "      <td>0</td>\n",
              "      <td>0</td>\n",
              "      <td>0</td>\n",
              "      <td>0</td>\n",
              "      <td>0</td>\n",
              "      <td>0</td>\n",
              "      <td>0</td>\n",
              "      <td>...</td>\n",
              "      <td>0</td>\n",
              "      <td>0</td>\n",
              "      <td>0</td>\n",
              "      <td>0</td>\n",
              "      <td>0</td>\n",
              "      <td>0</td>\n",
              "      <td>0</td>\n",
              "      <td>0</td>\n",
              "      <td>0</td>\n",
              "      <td>0</td>\n",
              "    </tr>\n",
              "    <tr>\n",
              "      <th>2</th>\n",
              "      <td>1</td>\n",
              "      <td>0</td>\n",
              "      <td>0</td>\n",
              "      <td>0</td>\n",
              "      <td>0</td>\n",
              "      <td>0</td>\n",
              "      <td>0</td>\n",
              "      <td>0</td>\n",
              "      <td>0</td>\n",
              "      <td>0</td>\n",
              "      <td>...</td>\n",
              "      <td>0</td>\n",
              "      <td>0</td>\n",
              "      <td>0</td>\n",
              "      <td>0</td>\n",
              "      <td>0</td>\n",
              "      <td>0</td>\n",
              "      <td>0</td>\n",
              "      <td>0</td>\n",
              "      <td>0</td>\n",
              "      <td>0</td>\n",
              "    </tr>\n",
              "    <tr>\n",
              "      <th>3</th>\n",
              "      <td>4</td>\n",
              "      <td>0</td>\n",
              "      <td>0</td>\n",
              "      <td>0</td>\n",
              "      <td>0</td>\n",
              "      <td>0</td>\n",
              "      <td>0</td>\n",
              "      <td>0</td>\n",
              "      <td>0</td>\n",
              "      <td>0</td>\n",
              "      <td>...</td>\n",
              "      <td>0</td>\n",
              "      <td>0</td>\n",
              "      <td>0</td>\n",
              "      <td>0</td>\n",
              "      <td>0</td>\n",
              "      <td>0</td>\n",
              "      <td>0</td>\n",
              "      <td>0</td>\n",
              "      <td>0</td>\n",
              "      <td>0</td>\n",
              "    </tr>\n",
              "    <tr>\n",
              "      <th>4</th>\n",
              "      <td>0</td>\n",
              "      <td>0</td>\n",
              "      <td>0</td>\n",
              "      <td>0</td>\n",
              "      <td>0</td>\n",
              "      <td>0</td>\n",
              "      <td>0</td>\n",
              "      <td>0</td>\n",
              "      <td>0</td>\n",
              "      <td>0</td>\n",
              "      <td>...</td>\n",
              "      <td>0</td>\n",
              "      <td>0</td>\n",
              "      <td>0</td>\n",
              "      <td>0</td>\n",
              "      <td>0</td>\n",
              "      <td>0</td>\n",
              "      <td>0</td>\n",
              "      <td>0</td>\n",
              "      <td>0</td>\n",
              "      <td>0</td>\n",
              "    </tr>\n",
              "  </tbody>\n",
              "</table>\n",
              "<p>5 rows × 785 columns</p>\n",
              "</div>\n",
              "      <button class=\"colab-df-convert\" onclick=\"convertToInteractive('df-e72568a1-9dd9-47bf-ad74-8796d4c5bf6f')\"\n",
              "              title=\"Convert this dataframe to an interactive table.\"\n",
              "              style=\"display:none;\">\n",
              "        \n",
              "  <svg xmlns=\"http://www.w3.org/2000/svg\" height=\"24px\"viewBox=\"0 0 24 24\"\n",
              "       width=\"24px\">\n",
              "    <path d=\"M0 0h24v24H0V0z\" fill=\"none\"/>\n",
              "    <path d=\"M18.56 5.44l.94 2.06.94-2.06 2.06-.94-2.06-.94-.94-2.06-.94 2.06-2.06.94zm-11 1L8.5 8.5l.94-2.06 2.06-.94-2.06-.94L8.5 2.5l-.94 2.06-2.06.94zm10 10l.94 2.06.94-2.06 2.06-.94-2.06-.94-.94-2.06-.94 2.06-2.06.94z\"/><path d=\"M17.41 7.96l-1.37-1.37c-.4-.4-.92-.59-1.43-.59-.52 0-1.04.2-1.43.59L10.3 9.45l-7.72 7.72c-.78.78-.78 2.05 0 2.83L4 21.41c.39.39.9.59 1.41.59.51 0 1.02-.2 1.41-.59l7.78-7.78 2.81-2.81c.8-.78.8-2.07 0-2.86zM5.41 20L4 18.59l7.72-7.72 1.47 1.35L5.41 20z\"/>\n",
              "  </svg>\n",
              "      </button>\n",
              "      \n",
              "  <style>\n",
              "    .colab-df-container {\n",
              "      display:flex;\n",
              "      flex-wrap:wrap;\n",
              "      gap: 12px;\n",
              "    }\n",
              "\n",
              "    .colab-df-convert {\n",
              "      background-color: #E8F0FE;\n",
              "      border: none;\n",
              "      border-radius: 50%;\n",
              "      cursor: pointer;\n",
              "      display: none;\n",
              "      fill: #1967D2;\n",
              "      height: 32px;\n",
              "      padding: 0 0 0 0;\n",
              "      width: 32px;\n",
              "    }\n",
              "\n",
              "    .colab-df-convert:hover {\n",
              "      background-color: #E2EBFA;\n",
              "      box-shadow: 0px 1px 2px rgba(60, 64, 67, 0.3), 0px 1px 3px 1px rgba(60, 64, 67, 0.15);\n",
              "      fill: #174EA6;\n",
              "    }\n",
              "\n",
              "    [theme=dark] .colab-df-convert {\n",
              "      background-color: #3B4455;\n",
              "      fill: #D2E3FC;\n",
              "    }\n",
              "\n",
              "    [theme=dark] .colab-df-convert:hover {\n",
              "      background-color: #434B5C;\n",
              "      box-shadow: 0px 1px 3px 1px rgba(0, 0, 0, 0.15);\n",
              "      filter: drop-shadow(0px 1px 2px rgba(0, 0, 0, 0.3));\n",
              "      fill: #FFFFFF;\n",
              "    }\n",
              "  </style>\n",
              "\n",
              "      <script>\n",
              "        const buttonEl =\n",
              "          document.querySelector('#df-e72568a1-9dd9-47bf-ad74-8796d4c5bf6f button.colab-df-convert');\n",
              "        buttonEl.style.display =\n",
              "          google.colab.kernel.accessAllowed ? 'block' : 'none';\n",
              "\n",
              "        async function convertToInteractive(key) {\n",
              "          const element = document.querySelector('#df-e72568a1-9dd9-47bf-ad74-8796d4c5bf6f');\n",
              "          const dataTable =\n",
              "            await google.colab.kernel.invokeFunction('convertToInteractive',\n",
              "                                                     [key], {});\n",
              "          if (!dataTable) return;\n",
              "\n",
              "          const docLinkHtml = 'Like what you see? Visit the ' +\n",
              "            '<a target=\"_blank\" href=https://colab.research.google.com/notebooks/data_table.ipynb>data table notebook</a>'\n",
              "            + ' to learn more about interactive tables.';\n",
              "          element.innerHTML = '';\n",
              "          dataTable['output_type'] = 'display_data';\n",
              "          await google.colab.output.renderOutput(dataTable, element);\n",
              "          const docLink = document.createElement('div');\n",
              "          docLink.innerHTML = docLinkHtml;\n",
              "          element.appendChild(docLink);\n",
              "        }\n",
              "      </script>\n",
              "    </div>\n",
              "  </div>\n",
              "  "
            ]
          },
          "metadata": {},
          "execution_count": 7
        }
      ]
    },
    {
      "cell_type": "code",
      "source": [
        "data = np.array(data)#converting data from dataframe to numpy array \n",
        "m, n = data.shape#defining rows and columns of data\n",
        "np.random.shuffle(data)#shuffling the dataset"
      ],
      "metadata": {
        "id": "hgor5Za4NGry"
      },
      "execution_count": 8,
      "outputs": []
    },
    {
      "cell_type": "code",
      "source": [
        "#defining validation data\n",
        "data_dev = data[0:1000].T#T here represents transpose\n",
        "Y_dev = data_dev[0]#defining output column\n",
        "X_dev = data_dev[1:n]#defining inputs, n is the number of columns, defined earlier\n",
        "X_dev = X_dev / 255.\n",
        "\n",
        "#defining training data\n",
        "data_train = data[1000:m].T#defining X, T here represents transpose, m is the number of rows, defined earlier\n",
        "Y_train = data_train[0]\n",
        "X_train = data_train[1:n]\n",
        "X_train = X_train / 255."
      ],
      "metadata": {
        "id": "_UMxyQylNZ_r"
      },
      "execution_count": 18,
      "outputs": []
    },
    {
      "cell_type": "code",
      "source": [
        "Y_train"
      ],
      "metadata": {
        "colab": {
          "base_uri": "https://localhost:8080/"
        },
        "id": "xbR11FozVVhc",
        "outputId": "b8c802ff-7aa6-4f5a-c526-edfde2b91650"
      },
      "execution_count": 19,
      "outputs": [
        {
          "output_type": "execute_result",
          "data": {
            "text/plain": [
              "array([0, 9, 9, ..., 2, 0, 4])"
            ]
          },
          "metadata": {},
          "execution_count": 19
        }
      ]
    },
    {
      "cell_type": "code",
      "source": [
        "def init_params():#a function to generate initial parameters\n",
        "  W1 = np.random.rand(10,784) - 0.5 #defining weights for 1st layer\n",
        "  b1 = np.random.rand(10,1) - 0.5 #defining biases for 1st layer\n",
        "  W2 = np.random.rand(10,10) - 0.5 #defining weights for 2nd layer\n",
        "  b2 = np.random.rand(10,1) - 0.5 #defining biases for 2nd layer\n",
        "  return W1, b1, W2, b2\n",
        "\n",
        "def ReLU(Z):#defining the ReLU activation function : for 1st layer\n",
        "  return np.maximum(0,Z)\n",
        "\n",
        "def softmax(Z):#defining softmax activation function : for 2nd layer\n",
        "  A = np.exp(Z)/sum(np.exp(Z))\n",
        "  return A\n",
        "\n",
        "def forward_prop(W1, b1, W2, b2, X):\n",
        "  Z1 = W1.dot(X)+b1#defining first layer\n",
        "  A1 = ReLU(Z1)#activating first layer\n",
        "  Z2 = W2.dot(A1)+b2#defining 2nd layer\n",
        "  A2 = softmax(Z2)#activating 2nd layer\n",
        "  return Z1, A1, Z2, A2\n",
        "\n",
        "def one_hot(Y):\n",
        "  one_hot_Y = np.zeros((Y.size, Y.max()+1))\n",
        "  one_hot_Y[np.arange(Y.size),Y] = 1\n",
        "  one_hot_Y = one_hot_Y.T\n",
        "  return one_hot_Y\n",
        "\n",
        "def deriv_ReLU(Z):\n",
        "  return Z > 0\n",
        "\n",
        "def back_prop(Z1, A1, Z2, A2, W2, X, Y):\n",
        "  m = Y.size\n",
        "  one_hot_Y = one_hot(Y)\n",
        "  dZ2 = A2 - one_hot_Y\n",
        "  dW2 = 1/m * dZ2.dot(A1.T)\n",
        "  db2 = 1/m * np.sum(dZ2)\n",
        "\n",
        "  dZ1 = W2.T.dot(dZ2)*deriv_ReLU(Z1)\n",
        "  dW1 = 1/m * dZ1.dot(X.T)\n",
        "  db1 = 1/m * np.sum(dZ1)\n",
        "\n",
        "  return dW1, db1, dW2, db2\n",
        "\n",
        "def update_params(W1, b1, W2, b2, dW1, db1, dW2, db2, alpha):\n",
        "  W1 = W1 - alpha * dW1\n",
        "  b1 = b1 - alpha * db1\n",
        "  W2 = W2 - alpha * dW2\n",
        "  b2 = b2 - alpha * db2\n",
        "  return W1, b1, W2, b2"
      ],
      "metadata": {
        "id": "Nv5HI_zDOQqb"
      },
      "execution_count": 20,
      "outputs": []
    },
    {
      "cell_type": "code",
      "source": [
        "def get_predictions(A2):\n",
        "  return np.argmax(A2,0)\n",
        "\n",
        "def get_accuracy(predictions, Y):\n",
        "  print(predictions, Y)\n",
        "  return np.sum(predictions == Y)/Y.size\n",
        "\n",
        "def gradient_descent(X, Y, iterations, alpha):\n",
        "  W1, b1, W2, b2 = init_params()\n",
        "  for i in range(iterations):\n",
        "    Z1, A1, Z2, A2 = forward_prop(W1, b1, W2, b2, X)#starting the cycle with forward prop\n",
        "    dW1, db1, dW2, db2 = back_prop(Z1, A1, Z2, A2, W2, X, Y)#continuing with back propagation\n",
        "    W1, b1, W2, b2 = update_params(W1, b1, W2, b2, dW1, db1, dW2, db2, alpha)#updating the parameters\n",
        "    if i % 10 == 0:\n",
        "      print(\"Iteration : \", i)\n",
        "      print(\"Accuracy : \", get_accuracy(get_predictions(A2),Y))\n",
        "  return W1, b1, W2, b2\n"
      ],
      "metadata": {
        "id": "N8Du4HgtSeny"
      },
      "execution_count": 21,
      "outputs": []
    },
    {
      "cell_type": "code",
      "source": [
        "W1, b1, W2, b2 = gradient_descent(X_train, Y_train, 500, 0.1)"
      ],
      "metadata": {
        "colab": {
          "base_uri": "https://localhost:8080/"
        },
        "id": "_1i-FGPIUPed",
        "outputId": "b7cf632e-f539-4481-d3fd-e1f1bfcb98b8"
      },
      "execution_count": 22,
      "outputs": [
        {
          "output_type": "stream",
          "name": "stdout",
          "text": [
            "Iteration :  0\n",
            "[7 7 0 ... 8 0 0] [0 9 9 ... 2 0 4]\n",
            "Accuracy :  0.051073170731707314\n",
            "Iteration :  10\n",
            "[7 5 8 ... 8 2 4] [0 9 9 ... 2 0 4]\n",
            "Accuracy :  0.11714634146341464\n",
            "Iteration :  20\n",
            "[7 5 4 ... 0 2 4] [0 9 9 ... 2 0 4]\n",
            "Accuracy :  0.16973170731707318\n",
            "Iteration :  30\n",
            "[5 5 4 ... 2 2 4] [0 9 9 ... 2 0 4]\n",
            "Accuracy :  0.21539024390243902\n",
            "Iteration :  40\n",
            "[5 5 9 ... 2 2 4] [0 9 9 ... 2 0 4]\n",
            "Accuracy :  0.26626829268292684\n",
            "Iteration :  50\n",
            "[5 5 9 ... 2 2 4] [0 9 9 ... 2 0 4]\n",
            "Accuracy :  0.3027073170731707\n",
            "Iteration :  60\n",
            "[5 5 9 ... 2 2 4] [0 9 9 ... 2 0 4]\n",
            "Accuracy :  0.33675609756097563\n",
            "Iteration :  70\n",
            "[5 3 9 ... 2 2 4] [0 9 9 ... 2 0 4]\n",
            "Accuracy :  0.37409756097560976\n",
            "Iteration :  80\n",
            "[5 3 9 ... 2 2 4] [0 9 9 ... 2 0 4]\n",
            "Accuracy :  0.41165853658536583\n",
            "Iteration :  90\n",
            "[5 3 9 ... 2 2 4] [0 9 9 ... 2 0 4]\n",
            "Accuracy :  0.4455609756097561\n",
            "Iteration :  100\n",
            "[5 9 9 ... 2 2 4] [0 9 9 ... 2 0 4]\n",
            "Accuracy :  0.48092682926829267\n",
            "Iteration :  110\n",
            "[5 9 9 ... 2 0 4] [0 9 9 ... 2 0 4]\n",
            "Accuracy :  0.514219512195122\n",
            "Iteration :  120\n",
            "[5 9 9 ... 2 0 4] [0 9 9 ... 2 0 4]\n",
            "Accuracy :  0.5508048780487805\n",
            "Iteration :  130\n",
            "[5 9 9 ... 2 0 4] [0 9 9 ... 2 0 4]\n",
            "Accuracy :  0.597609756097561\n",
            "Iteration :  140\n",
            "[5 9 9 ... 2 0 1] [0 9 9 ... 2 0 4]\n",
            "Accuracy :  0.6405121951219512\n",
            "Iteration :  150\n",
            "[0 9 9 ... 2 0 1] [0 9 9 ... 2 0 4]\n",
            "Accuracy :  0.6660975609756098\n",
            "Iteration :  160\n",
            "[0 9 9 ... 2 0 1] [0 9 9 ... 2 0 4]\n",
            "Accuracy :  0.6848536585365854\n",
            "Iteration :  170\n",
            "[0 9 9 ... 2 0 1] [0 9 9 ... 2 0 4]\n",
            "Accuracy :  0.7002682926829268\n",
            "Iteration :  180\n",
            "[0 9 9 ... 2 0 1] [0 9 9 ... 2 0 4]\n",
            "Accuracy :  0.7135853658536585\n",
            "Iteration :  190\n",
            "[0 9 9 ... 2 0 1] [0 9 9 ... 2 0 4]\n",
            "Accuracy :  0.725609756097561\n",
            "Iteration :  200\n",
            "[0 9 9 ... 2 0 1] [0 9 9 ... 2 0 4]\n",
            "Accuracy :  0.7358780487804878\n",
            "Iteration :  210\n",
            "[0 9 9 ... 2 0 1] [0 9 9 ... 2 0 4]\n",
            "Accuracy :  0.7441707317073171\n",
            "Iteration :  220\n",
            "[0 9 9 ... 2 0 1] [0 9 9 ... 2 0 4]\n",
            "Accuracy :  0.7523170731707317\n",
            "Iteration :  230\n",
            "[0 9 9 ... 2 0 1] [0 9 9 ... 2 0 4]\n",
            "Accuracy :  0.7607073170731707\n",
            "Iteration :  240\n",
            "[0 9 9 ... 2 0 1] [0 9 9 ... 2 0 4]\n",
            "Accuracy :  0.7674634146341464\n",
            "Iteration :  250\n",
            "[0 9 9 ... 2 0 1] [0 9 9 ... 2 0 4]\n",
            "Accuracy :  0.7741951219512195\n",
            "Iteration :  260\n",
            "[0 9 9 ... 2 0 1] [0 9 9 ... 2 0 4]\n",
            "Accuracy :  0.7804146341463415\n",
            "Iteration :  270\n",
            "[0 9 9 ... 2 0 1] [0 9 9 ... 2 0 4]\n",
            "Accuracy :  0.7866341463414634\n",
            "Iteration :  280\n",
            "[0 9 9 ... 2 0 1] [0 9 9 ... 2 0 4]\n",
            "Accuracy :  0.7911463414634147\n",
            "Iteration :  290\n",
            "[0 9 9 ... 2 0 1] [0 9 9 ... 2 0 4]\n",
            "Accuracy :  0.7955121951219513\n",
            "Iteration :  300\n",
            "[0 9 9 ... 2 0 1] [0 9 9 ... 2 0 4]\n",
            "Accuracy :  0.7995121951219513\n",
            "Iteration :  310\n",
            "[0 9 9 ... 2 0 1] [0 9 9 ... 2 0 4]\n",
            "Accuracy :  0.8031707317073171\n",
            "Iteration :  320\n",
            "[0 9 9 ... 2 0 1] [0 9 9 ... 2 0 4]\n",
            "Accuracy :  0.806829268292683\n",
            "Iteration :  330\n",
            "[0 9 9 ... 2 0 1] [0 9 9 ... 2 0 4]\n",
            "Accuracy :  0.8102439024390244\n",
            "Iteration :  340\n",
            "[0 9 9 ... 2 0 1] [0 9 9 ... 2 0 4]\n",
            "Accuracy :  0.8132439024390243\n",
            "Iteration :  350\n",
            "[0 9 9 ... 2 0 1] [0 9 9 ... 2 0 4]\n",
            "Accuracy :  0.8162682926829268\n",
            "Iteration :  360\n",
            "[0 9 9 ... 2 0 1] [0 9 9 ... 2 0 4]\n",
            "Accuracy :  0.819170731707317\n",
            "Iteration :  370\n",
            "[0 9 9 ... 2 0 1] [0 9 9 ... 2 0 4]\n",
            "Accuracy :  0.8216829268292682\n",
            "Iteration :  380\n",
            "[0 9 9 ... 2 0 1] [0 9 9 ... 2 0 4]\n",
            "Accuracy :  0.8234390243902439\n",
            "Iteration :  390\n",
            "[0 9 9 ... 2 0 1] [0 9 9 ... 2 0 4]\n",
            "Accuracy :  0.8256341463414634\n",
            "Iteration :  400\n",
            "[0 9 9 ... 2 0 1] [0 9 9 ... 2 0 4]\n",
            "Accuracy :  0.8275853658536585\n",
            "Iteration :  410\n",
            "[0 9 9 ... 2 0 1] [0 9 9 ... 2 0 4]\n",
            "Accuracy :  0.8299268292682926\n",
            "Iteration :  420\n",
            "[0 9 9 ... 2 0 1] [0 9 9 ... 2 0 4]\n",
            "Accuracy :  0.8316341463414634\n",
            "Iteration :  430\n",
            "[0 9 9 ... 2 0 1] [0 9 9 ... 2 0 4]\n",
            "Accuracy :  0.8336585365853658\n",
            "Iteration :  440\n",
            "[0 9 9 ... 2 0 1] [0 9 9 ... 2 0 4]\n",
            "Accuracy :  0.8351951219512195\n",
            "Iteration :  450\n",
            "[0 9 9 ... 2 0 1] [0 9 9 ... 2 0 4]\n",
            "Accuracy :  0.8371219512195122\n",
            "Iteration :  460\n",
            "[0 9 9 ... 2 0 1] [0 9 9 ... 2 0 4]\n",
            "Accuracy :  0.8390487804878048\n",
            "Iteration :  470\n",
            "[0 9 9 ... 2 0 1] [0 9 9 ... 2 0 4]\n",
            "Accuracy :  0.8409268292682927\n",
            "Iteration :  480\n",
            "[0 9 9 ... 2 0 1] [0 9 9 ... 2 0 4]\n",
            "Accuracy :  0.8423414634146341\n",
            "Iteration :  490\n",
            "[0 9 9 ... 2 0 1] [0 9 9 ... 2 0 4]\n",
            "Accuracy :  0.8441463414634146\n"
          ]
        }
      ]
    },
    {
      "cell_type": "code",
      "source": [
        "def make_predictions(X, W1, b1, W2, b2):\n",
        "    _, _, _, A2 = forward_prop(W1, b1, W2, b2, X)\n",
        "    predictions = get_predictions(A2)\n",
        "    return predictions\n",
        "\n",
        "def test_prediction(index, W1, b1, W2, b2):\n",
        "    current_image = X_train[:, index, None]\n",
        "    prediction = make_predictions(X_train[:, index, None], W1, b1, W2, b2)\n",
        "    label = Y_train[index]\n",
        "    print(\"Prediction: \", prediction)\n",
        "    print(\"Label: \", label)\n",
        "    \n",
        "    current_image = current_image.reshape((28, 28)) * 255\n",
        "    plt.gray()\n",
        "    plt.imshow(current_image, interpolation='nearest')\n",
        "    plt.show()"
      ],
      "metadata": {
        "id": "Zt2Uu0XfUXnJ"
      },
      "execution_count": 23,
      "outputs": []
    },
    {
      "cell_type": "code",
      "source": [
        "test_prediction(0, W1, b1, W2, b2)\n",
        "test_prediction(1, W1, b1, W2, b2)\n",
        "test_prediction(2, W1, b1, W2, b2)\n",
        "test_prediction(3, W1, b1, W2, b2)"
      ],
      "metadata": {
        "colab": {
          "base_uri": "https://localhost:8080/",
          "height": 1000
        },
        "id": "ouddAp1qYmNn",
        "outputId": "c5820584-954b-4e10-9401-8096967dfe79"
      },
      "execution_count": 24,
      "outputs": [
        {
          "output_type": "stream",
          "name": "stdout",
          "text": [
            "Prediction:  [0]\n",
            "Label:  0\n"
          ]
        },
        {
          "output_type": "display_data",
          "data": {
            "text/plain": [
              "<Figure size 640x480 with 1 Axes>"
            ],
            "image/png": "[encoded data removed]"
          },
          "metadata": {}
        },
        {
          "output_type": "stream",
          "name": "stdout",
          "text": [
            "Prediction:  [9]\n",
            "Label:  9\n"
          ]
        },
        {
          "output_type": "display_data",
          "data": {
            "text/plain": [
              "<Figure size 640x480 with 1 Axes>"
            ],
            "image/png": "[encoded data removed]"
          },
          "metadata": {}
        },
        {
          "output_type": "stream",
          "name": "stdout",
          "text": [
            "Prediction:  [9]\n",
            "Label:  9\n"
          ]
        },
        {
          "output_type": "display_data",
          "data": {
            "text/plain": [
              "<Figure size 640x480 with 1 Axes>"
            ],
            "image/png": "[encoded data removed]"
          },
          "metadata": {}
        },
        {
          "output_type": "stream",
          "name": "stdout",
          "text": [
            "Prediction:  [2]\n",
            "Label:  2\n"
          ]
        },
        {
          "output_type": "display_data",
          "data": {
            "text/plain": [
              "<Figure size 640x480 with 1 Axes>"
            ],
            "image/png": "[encoded data removed]"
          },
          "metadata": {}
        }
      ]
    },
    {
      "cell_type": "code",
      "source": [
        "dev_predictions = make_predictions(X_dev, W1, b1, W2, b2)\n",
        "get_accuracy(dev_predictions, Y_dev)"
      ],
      "metadata": {
        "id": "1nEimnFvYpm4"
      },
      "execution_count": null,
      "outputs": []
    },
    {
      "cell_type": "code",
      "source": [],
      "metadata": {
        "id": "joGAwK9bYvsI"
      },
      "execution_count": null,
      "outputs": []
    }
  ]
}