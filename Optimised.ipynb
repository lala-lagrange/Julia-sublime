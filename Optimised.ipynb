{
  "nbformat": 4,
  "nbformat_minor": 0,
  "metadata": {
    "colab": {
      "provenance": [],
      "authorship_tag": "ABX9TyPvto+0fL8xXliSdJophxHE",
      "include_colab_link": true
    },
    "kernelspec": {
      "name": "python3",
      "display_name": "Python 3"
    },
    "language_info": {
      "name": "python"
    }
  },
  "cells": [
    {
      "cell_type": "markdown",
      "metadata": {
        "id": "view-in-github",
        "colab_type": "text"
      },
      "source": [
        "<a href=\"https://colab.research.google.com/github/lala-lagrange/Julia-sublime/blob/master/Optimised.ipynb\" target=\"_parent\"><img src=\"https://colab.research.google.com/assets/colab-badge.svg\" alt=\"Open In Colab\"/></a>"
      ]
    },
    {
      "cell_type": "markdown",
      "source": [
        "# **OPTIMISING TEST SIZE VALUE FOR ACCURACY**"
      ],
      "metadata": {
        "id": "BFkFldND3zH-"
      }
    },
    {
      "cell_type": "code",
      "source": [
        "# IMPORTING NECESSARY LIBRARIES\n",
        "import numpy as np\n",
        "import pandas as pd\n",
        "\n",
        "# DATA PRE-PROCESSING\n",
        "df = pd.read_csv('/content/titanicsurvival.csv')\n",
        "df = df.fillna(0)\n",
        "dfx = df.drop(\"Fare\", axis=1)\n",
        "\n",
        "mean = dfx['Age'].mean()\n",
        "dfx['Age'] = dfx['Age'].replace(0, mean)\n",
        "dfx['Sex'] = dfx['Sex'].map({'male': '0', 'female': '1'})\n",
        "\n",
        "# ASSIGNING VARIABLES\n",
        "x = dfx.iloc[:, :-1].values\n",
        "y = dfx.iloc[:, -1].values\n",
        "\n",
        "# SPLITTING THE DATA\n",
        "from sklearn.model_selection import train_test_split\n",
        "from sklearn.metrics import accuracy_score\n",
        "from sklearn.preprocessing import StandardScaler\n",
        "from sklearn.neighbors import KNeighborsClassifier\n",
        "\n",
        "a = np.arange(0.1,0.5,0.05)\n",
        "b = np.arange(0,df.shape[0],10)\n",
        "op = []\n",
        "c =[]\n",
        "d= []\n",
        "\n",
        "for i in range(len(a)):\n",
        "  for j in range(len(b)):\n",
        "    c.append(a[i])\n",
        "    d.append(b[j])\n",
        "    X_train, X_test, Y_train, Y_test = train_test_split(x, y, test_size=a[i],random_state=b[j])\n",
        "    sc = StandardScaler()\n",
        "    X_train_sc = sc.fit_transform(X_train)\n",
        "    X_test_sc = sc.transform(X_test)\n",
        "    knn = KNeighborsClassifier(n_neighbors=5, metric='minkowski', p=1)\n",
        "    knn.fit(X_train_sc, Y_train)\n",
        "    lr_pred = knn.predict(X_test_sc)\n",
        "    acc = accuracy_score(Y_test, lr_pred) * 100\n",
        "    op.append(acc)\n",
        "    \n",
        "    \n",
        "print(len(c))\n",
        "print(len(d))\n",
        "print(len(op))"
      ],
      "metadata": {
        "colab": {
          "base_uri": "https://localhost:8080/"
        },
        "id": "PC62z7z02x-z",
        "outputId": "38843aae-c034-431e-fb91-000131df5089"
      },
      "execution_count": null,
      "outputs": [
        {
          "output_type": "stream",
          "name": "stdout",
          "text": [
            "720\n",
            "720\n",
            "720\n"
          ]
        }
      ]
    },
    {
      "cell_type": "code",
      "source": [
        "\n",
        "data = {'Test_size':c,'Random_state':d,'Accuracy':op}\n",
        "best = pd.DataFrame(data)\n",
        "best"
      ],
      "metadata": {
        "colab": {
          "base_uri": "https://localhost:8080/",
          "height": 439
        },
        "id": "qFgzYWCcGTCL",
        "outputId": "affa86de-c6b6-4ea3-efb2-0ffdd89f1acd"
      },
      "execution_count": null,
      "outputs": [
        {
          "output_type": "execute_result",
          "data": {
            "text/plain": [
              "     Test_size  Random_state   Accuracy\n",
              "0         0.10             0  74.444444\n",
              "1         0.10            10  85.555556\n",
              "2         0.10            20  86.666667\n",
              "3         0.10            30  80.000000\n",
              "4         0.10            40  83.333333\n",
              "..         ...           ...        ...\n",
              "715       0.45           850  80.798005\n",
              "716       0.45           860  78.802993\n",
              "717       0.45           870  82.543641\n",
              "718       0.45           880  81.546135\n",
              "719       0.45           890  78.054863\n",
              "\n",
              "[720 rows x 3 columns]"
            ],
            "text/html": [
              "\n",
              "  <div id=\"df-465c4943-8520-445b-b9ea-5828ca0868b0\">\n",
              "    <div class=\"colab-df-container\">\n",
              "      <div>\n",
              "<style scoped>\n",
              "    .dataframe tbody tr th:only-of-type {\n",
              "        vertical-align: middle;\n",
              "    }\n",
              "\n",
              "    .dataframe tbody tr th {\n",
              "        vertical-align: top;\n",
              "    }\n",
              "\n",
              "    .dataframe thead th {\n",
              "        text-align: right;\n",
              "    }\n",
              "</style>\n",
              "<table border=\"1\" class=\"dataframe\">\n",
              "  <thead>\n",
              "    <tr style=\"text-align: right;\">\n",
              "      <th></th>\n",
              "      <th>Test_size</th>\n",
              "      <th>Random_state</th>\n",
              "      <th>Accuracy</th>\n",
              "    </tr>\n",
              "  </thead>\n",
              "  <tbody>\n",
              "    <tr>\n",
              "      <th>0</th>\n",
              "      <td>0.10</td>\n",
              "      <td>0</td>\n",
              "      <td>74.444444</td>\n",
              "    </tr>\n",
              "    <tr>\n",
              "      <th>1</th>\n",
              "      <td>0.10</td>\n",
              "      <td>10</td>\n",
              "      <td>85.555556</td>\n",
              "    </tr>\n",
              "    <tr>\n",
              "      <th>2</th>\n",
              "      <td>0.10</td>\n",
              "      <td>20</td>\n",
              "      <td>86.666667</td>\n",
              "    </tr>\n",
              "    <tr>\n",
              "      <th>3</th>\n",
              "      <td>0.10</td>\n",
              "      <td>30</td>\n",
              "      <td>80.000000</td>\n",
              "    </tr>\n",
              "    <tr>\n",
              "      <th>4</th>\n",
              "      <td>0.10</td>\n",
              "      <td>40</td>\n",
              "      <td>83.333333</td>\n",
              "    </tr>\n",
              "    <tr>\n",
              "      <th>...</th>\n",
              "      <td>...</td>\n",
              "      <td>...</td>\n",
              "      <td>...</td>\n",
              "    </tr>\n",
              "    <tr>\n",
              "      <th>715</th>\n",
              "      <td>0.45</td>\n",
              "      <td>850</td>\n",
              "      <td>80.798005</td>\n",
              "    </tr>\n",
              "    <tr>\n",
              "      <th>716</th>\n",
              "      <td>0.45</td>\n",
              "      <td>860</td>\n",
              "      <td>78.802993</td>\n",
              "    </tr>\n",
              "    <tr>\n",
              "      <th>717</th>\n",
              "      <td>0.45</td>\n",
              "      <td>870</td>\n",
              "      <td>82.543641</td>\n",
              "    </tr>\n",
              "    <tr>\n",
              "      <th>718</th>\n",
              "      <td>0.45</td>\n",
              "      <td>880</td>\n",
              "      <td>81.546135</td>\n",
              "    </tr>\n",
              "    <tr>\n",
              "      <th>719</th>\n",
              "      <td>0.45</td>\n",
              "      <td>890</td>\n",
              "      <td>78.054863</td>\n",
              "    </tr>\n",
              "  </tbody>\n",
              "</table>\n",
              "<p>720 rows × 3 columns</p>\n",
              "</div>\n",
              "      <button class=\"colab-df-convert\" onclick=\"convertToInteractive('df-465c4943-8520-445b-b9ea-5828ca0868b0')\"\n",
              "              title=\"Convert this dataframe to an interactive table.\"\n",
              "              style=\"display:none;\">\n",
              "        \n",
              "  <svg xmlns=\"http://www.w3.org/2000/svg\" height=\"24px\"viewBox=\"0 0 24 24\"\n",
              "       width=\"24px\">\n",
              "    <path d=\"M0 0h24v24H0V0z\" fill=\"none\"/>\n",
              "    <path d=\"M18.56 5.44l.94 2.06.94-2.06 2.06-.94-2.06-.94-.94-2.06-.94 2.06-2.06.94zm-11 1L8.5 8.5l.94-2.06 2.06-.94-2.06-.94L8.5 2.5l-.94 2.06-2.06.94zm10 10l.94 2.06.94-2.06 2.06-.94-2.06-.94-.94-2.06-.94 2.06-2.06.94z\"/><path d=\"M17.41 7.96l-1.37-1.37c-.4-.4-.92-.59-1.43-.59-.52 0-1.04.2-1.43.59L10.3 9.45l-7.72 7.72c-.78.78-.78 2.05 0 2.83L4 21.41c.39.39.9.59 1.41.59.51 0 1.02-.2 1.41-.59l7.78-7.78 2.81-2.81c.8-.78.8-2.07 0-2.86zM5.41 20L4 18.59l7.72-7.72 1.47 1.35L5.41 20z\"/>\n",
              "  </svg>\n",
              "      </button>\n",
              "      \n",
              "  <style>\n",
              "    .colab-df-container {\n",
              "      display:flex;\n",
              "      flex-wrap:wrap;\n",
              "      gap: 12px;\n",
              "    }\n",
              "\n",
              "    .colab-df-convert {\n",
              "      background-color: #E8F0FE;\n",
              "      border: none;\n",
              "      border-radius: 50%;\n",
              "      cursor: pointer;\n",
              "      display: none;\n",
              "      fill: #1967D2;\n",
              "      height: 32px;\n",
              "      padding: 0 0 0 0;\n",
              "      width: 32px;\n",
              "    }\n",
              "\n",
              "    .colab-df-convert:hover {\n",
              "      background-color: #E2EBFA;\n",
              "      box-shadow: 0px 1px 2px rgba(60, 64, 67, 0.3), 0px 1px 3px 1px rgba(60, 64, 67, 0.15);\n",
              "      fill: #174EA6;\n",
              "    }\n",
              "\n",
              "    [theme=dark] .colab-df-convert {\n",
              "      background-color: #3B4455;\n",
              "      fill: #D2E3FC;\n",
              "    }\n",
              "\n",
              "    [theme=dark] .colab-df-convert:hover {\n",
              "      background-color: #434B5C;\n",
              "      box-shadow: 0px 1px 3px 1px rgba(0, 0, 0, 0.15);\n",
              "      filter: drop-shadow(0px 1px 2px rgba(0, 0, 0, 0.3));\n",
              "      fill: #FFFFFF;\n",
              "    }\n",
              "  </style>\n",
              "\n",
              "      <script>\n",
              "        const buttonEl =\n",
              "          document.querySelector('#df-465c4943-8520-445b-b9ea-5828ca0868b0 button.colab-df-convert');\n",
              "        buttonEl.style.display =\n",
              "          google.colab.kernel.accessAllowed ? 'block' : 'none';\n",
              "\n",
              "        async function convertToInteractive(key) {\n",
              "          const element = document.querySelector('#df-465c4943-8520-445b-b9ea-5828ca0868b0');\n",
              "          const dataTable =\n",
              "            await google.colab.kernel.invokeFunction('convertToInteractive',\n",
              "                                                     [key], {});\n",
              "          if (!dataTable) return;\n",
              "\n",
              "          const docLinkHtml = 'Like what you see? Visit the ' +\n",
              "            '<a target=\"_blank\" href=https://colab.research.google.com/notebooks/data_table.ipynb>data table notebook</a>'\n",
              "            + ' to learn more about interactive tables.';\n",
              "          element.innerHTML = '';\n",
              "          dataTable['output_type'] = 'display_data';\n",
              "          await google.colab.output.renderOutput(dataTable, element);\n",
              "          const docLink = document.createElement('div');\n",
              "          docLink.innerHTML = docLinkHtml;\n",
              "          element.appendChild(docLink);\n",
              "        }\n",
              "      </script>\n",
              "    </div>\n",
              "  </div>\n",
              "  "
            ]
          },
          "metadata": {},
          "execution_count": 62
        }
      ]
    },
    {
      "cell_type": "code",
      "source": [
        "#finding the maximum value of accuracy and printing corresponding \n",
        "#test_size value and random_state\n",
        "\n",
        "max_x = best.loc[best['Accuracy'].idxmax()]\n",
        "print( \"Maximum value of accuracy  and its corresponding test size and random state values:\\n\", max_x)"
      ],
      "metadata": {
        "id": "Zd8lqfX09uRF",
        "colab": {
          "base_uri": "https://localhost:8080/"
        },
        "outputId": "ae17e521-7ad4-4c63-fd8b-3d81162a968f"
      },
      "execution_count": null,
      "outputs": [
        {
          "output_type": "stream",
          "name": "stdout",
          "text": [
            "Maximum value of accuracy  and its corresponding test size and random state values:\n",
            " Test_size         0.100000\n",
            "Random_state    740.000000\n",
            "Accuracy         91.111111\n",
            "Name: 74, dtype: float64\n"
          ]
        }
      ]
    },
    {
      "cell_type": "code",
      "source": [
        "from matplotlib import markers\n",
        "from mpl_toolkits import mplot3d\n",
        "%matplotlib inline\n",
        "import matplotlib.pyplot as plt\n",
        "\n",
        "fig = plt.figure()\n",
        "ax = plt.axes(projection='3d')\n",
        "\n",
        "q1 = [c]\n",
        "q2 = [d]\n",
        "q3 = [op]\n",
        "\n",
        "ax.scatter3D(q1, q2, q3);\n",
        "plt.xlabel('test_size')\n",
        "plt.ylabel('accuracy ')\n",
        "plt.title('fig. test_size vs accuracy of a model')\n",
        "plt.show()"
      ],
      "metadata": {
        "colab": {
          "base_uri": "https://localhost:8080/",
          "height": 248
        },
        "id": "qzjvbY9kHLUu",
        "outputId": "4d401d54-84c8-4eb1-eefa-79a053d0c3bb"
      },
      "execution_count": 8,
      "outputs": [
        {
          "output_type": "display_data",
          "data": {
            "text/plain": [
              "<Figure size 432x288 with 1 Axes>"
            ],
            "image/png": "[encoded data removed]"
          },
          "metadata": {
            "needs_background": "light"
          }
        }
      ]
    },
    {
      "cell_type": "markdown",
      "source": [
        "## **TESTING WITH GAUSSIAN NB MODEL**"
      ],
      "metadata": {
        "id": "ITqny482q2ht"
      }
    },
    {
      "cell_type": "code",
      "source": [
        "# IMPORTING NECESSARY LIBRARIES\n",
        "import numpy as np\n",
        "import pandas as pd\n",
        "\n",
        "# DATA PRE-PROCESSING\n",
        "df = pd.read_csv('/content/titanicsurvival.csv')\n",
        "df = df.fillna(0)\n",
        "dfx = df.drop(\"Fare\", axis=1)\n",
        "\n",
        "mean = dfx['Age'].mean()\n",
        "dfx['Age'] = dfx['Age'].replace(0, mean)\n",
        "dfx['Sex'] = dfx['Sex'].map({'male': '0', 'female': '1'})\n",
        "\n",
        "# ASSIGNING VARIABLES\n",
        "x = dfx.iloc[:, :-1].values\n",
        "y = dfx.iloc[:, -1].values\n",
        "\n",
        "# SPLITTING THE DATA\n",
        "from sklearn.model_selection import train_test_split\n",
        "from sklearn.metrics import accuracy_score\n",
        "from sklearn.preprocessing import StandardScaler\n",
        "from sklearn.naive_bayes import GaussianNB\n",
        "\n",
        "\n",
        "a = np.arange(0.1,0.5,0.01)\n",
        "b = np.arange(0,df.shape[0],5)\n",
        "op = []\n",
        "c =[]\n",
        "d= []\n",
        "\n",
        "for i in range(len(a)):\n",
        "  for j in range(len(b)):\n",
        "    c.append(a[i])\n",
        "    d.append(b[j])\n",
        "    X_train, X_test, Y_train, Y_test = train_test_split(x, y, test_size=a[i],random_state=b[j])\n",
        "    \n",
        "    gnb = GaussianNB()\n",
        "    gnb.fit(X_train, Y_train)\n",
        "    gnb_pred = gnb.predict(X_test)\n",
        "    acc = accuracy_score(Y_test, gnb_pred) * 100\n",
        "    op.append(acc)\n",
        "    \n",
        "\n",
        "data = {'Test_size':c,'Random_state':d,'Accuracy':op}\n",
        "best = pd.DataFrame(data)\n",
        "\n",
        "#finding the maximum value of accuracy and printing corresponding \n",
        "#test_size value and random_state\n",
        "\n",
        "max_x = best.loc[best['Accuracy'].idxmax()]\n",
        "print( \"Maximum value of accuracy  and its corresponding test size and random state values:\\n\", max_x)"
      ],
      "metadata": {
        "colab": {
          "base_uri": "https://localhost:8080/"
        },
        "id": "Z3T4GjaXpD8V",
        "outputId": "8ad532ac-f820-492b-d3d4-034d9843a489"
      },
      "execution_count": 7,
      "outputs": [
        {
          "output_type": "stream",
          "name": "stdout",
          "text": [
            "Maximum value of accuracy  and its corresponding test size and random state values:\n",
            " Test_size        0.100000\n",
            "Random_state    45.000000\n",
            "Accuracy        87.777778\n",
            "Name: 9, dtype: float64\n"
          ]
        }
      ]
    },
    {
      "cell_type": "markdown",
      "source": [
        "#### **we have 87.77% as highest accuracy and the corresponding value of random_state = 45, test_size = 0.1**"
      ],
      "metadata": {
        "id": "d8EXHTfMq7P2"
      }
    },
    {
      "cell_type": "code",
      "source": [],
      "metadata": {
        "id": "o7Qb2fCdqa3J"
      },
      "execution_count": null,
      "outputs": []
    }
  ]
}