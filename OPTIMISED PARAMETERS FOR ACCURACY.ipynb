{
  "nbformat": 4,
  "nbformat_minor": 0,
  "metadata": {
    "colab": {
      "provenance": [],
      "authorship_tag": "ABX9TyMoSeHX0Re/EZVvHJ7vCDP1"
    },
    "kernelspec": {
      "name": "python3",
      "display_name": "Python 3"
    },
    "language_info": {
      "name": "python"
    }
  },
  "cells": [
    {
      "cell_type": "markdown",
      "source": [
        "# **OPTIMISING TEST SIZE VALUE FOR ACCURACY**"
      ],
      "metadata": {
        "id": "BFkFldND3zH-"
      }
    },
    {
      "cell_type": "code",
      "source": [
        "# IMPORTING NECESSARY LIBRARIES\n",
        "import numpy as np\n",
        "import pandas as pd\n",
        "\n",
        "# DATA PRE-PROCESSING\n",
        "df = pd.read_csv('/content/titanicsurvival.csv')\n",
        "df = df.fillna(0)\n",
        "dfx = df.drop(\"Fare\", axis=1)\n",
        "\n",
        "mean = dfx['Age'].mean()\n",
        "dfx['Age'] = dfx['Age'].replace(0, mean)\n",
        "dfx['Sex'] = dfx['Sex'].map({'male': '0', 'female': '1'})\n",
        "\n",
        "# ASSIGNING VARIABLES\n",
        "x = dfx.iloc[:, :-1].values\n",
        "y = dfx.iloc[:, -1].values\n",
        "\n",
        "# SPLITTING THE DATA\n",
        "from sklearn.model_selection import train_test_split\n",
        "from sklearn.metrics import accuracy_score,precision_score,recall_score,f1_score,classification_report\n",
        "from sklearn.preprocessing import StandardScaler\n",
        "from sklearn.neighbors import KNeighborsClassifier\n",
        "\n",
        "a = np.arange(0.1,0.5,0.0005)\n",
        "op = []\n",
        "for i in range(len(a)):\n",
        "    X_train, X_test, Y_train, Y_test = train_test_split(x, y, test_size=a[i], random_state=0)\n",
        "    sc = StandardScaler()\n",
        "    X_train_sc = sc.fit_transform(X_train)\n",
        "    X_test_sc = sc.transform(X_test)\n",
        "    knn = KNeighborsClassifier(n_neighbors=5, metric='minkowski', p=1)\n",
        "    knn.fit(X_train_sc, Y_train)\n",
        "    lr_pred = knn.predict(X_test_sc)\n",
        "    acc = accuracy_score(Y_test, lr_pred) * 100\n",
        "    op.append(acc)\n",
        "\n",
        "data = {'Test_size':a,'Accuracy':op}\n",
        "best = pd.DataFrame(data)\n",
        "best"
      ],
      "metadata": {
        "colab": {
          "base_uri": "https://localhost:8080/",
          "height": 439
        },
        "id": "luRaQ4h4mqDJ",
        "outputId": "cd791401-e771-4436-e768-5bb3809c0551"
      },
      "execution_count": 31,
      "outputs": [
        {
          "output_type": "execute_result",
          "data": {
            "text/plain": [
              "     Test_size   Accuracy\n",
              "0       0.1000  74.444444\n",
              "1       0.1005  74.444444\n",
              "2       0.1010  74.444444\n",
              "3       0.1015  80.219780\n",
              "4       0.1020  80.219780\n",
              "..         ...        ...\n",
              "795     0.4975  77.927928\n",
              "796     0.4980  77.927928\n",
              "797     0.4985  78.426966\n",
              "798     0.4990  78.426966\n",
              "799     0.4995  79.147982\n",
              "\n",
              "[800 rows x 2 columns]"
            ],
            "text/html": [
              "\n",
              "  <div id=\"df-f4a7db02-6b01-4919-946e-efff401782e4\">\n",
              "    <div class=\"colab-df-container\">\n",
              "      <div>\n",
              "<style scoped>\n",
              "    .dataframe tbody tr th:only-of-type {\n",
              "        vertical-align: middle;\n",
              "    }\n",
              "\n",
              "    .dataframe tbody tr th {\n",
              "        vertical-align: top;\n",
              "    }\n",
              "\n",
              "    .dataframe thead th {\n",
              "        text-align: right;\n",
              "    }\n",
              "</style>\n",
              "<table border=\"1\" class=\"dataframe\">\n",
              "  <thead>\n",
              "    <tr style=\"text-align: right;\">\n",
              "      <th></th>\n",
              "      <th>Test_size</th>\n",
              "      <th>Accuracy</th>\n",
              "    </tr>\n",
              "  </thead>\n",
              "  <tbody>\n",
              "    <tr>\n",
              "      <th>0</th>\n",
              "      <td>0.1000</td>\n",
              "      <td>74.444444</td>\n",
              "    </tr>\n",
              "    <tr>\n",
              "      <th>1</th>\n",
              "      <td>0.1005</td>\n",
              "      <td>74.444444</td>\n",
              "    </tr>\n",
              "    <tr>\n",
              "      <th>2</th>\n",
              "      <td>0.1010</td>\n",
              "      <td>74.444444</td>\n",
              "    </tr>\n",
              "    <tr>\n",
              "      <th>3</th>\n",
              "      <td>0.1015</td>\n",
              "      <td>80.219780</td>\n",
              "    </tr>\n",
              "    <tr>\n",
              "      <th>4</th>\n",
              "      <td>0.1020</td>\n",
              "      <td>80.219780</td>\n",
              "    </tr>\n",
              "    <tr>\n",
              "      <th>...</th>\n",
              "      <td>...</td>\n",
              "      <td>...</td>\n",
              "    </tr>\n",
              "    <tr>\n",
              "      <th>795</th>\n",
              "      <td>0.4975</td>\n",
              "      <td>77.927928</td>\n",
              "    </tr>\n",
              "    <tr>\n",
              "      <th>796</th>\n",
              "      <td>0.4980</td>\n",
              "      <td>77.927928</td>\n",
              "    </tr>\n",
              "    <tr>\n",
              "      <th>797</th>\n",
              "      <td>0.4985</td>\n",
              "      <td>78.426966</td>\n",
              "    </tr>\n",
              "    <tr>\n",
              "      <th>798</th>\n",
              "      <td>0.4990</td>\n",
              "      <td>78.426966</td>\n",
              "    </tr>\n",
              "    <tr>\n",
              "      <th>799</th>\n",
              "      <td>0.4995</td>\n",
              "      <td>79.147982</td>\n",
              "    </tr>\n",
              "  </tbody>\n",
              "</table>\n",
              "<p>800 rows × 2 columns</p>\n",
              "</div>\n",
              "      <button class=\"colab-df-convert\" onclick=\"convertToInteractive('df-f4a7db02-6b01-4919-946e-efff401782e4')\"\n",
              "              title=\"Convert this dataframe to an interactive table.\"\n",
              "              style=\"display:none;\">\n",
              "        \n",
              "  <svg xmlns=\"http://www.w3.org/2000/svg\" height=\"24px\"viewBox=\"0 0 24 24\"\n",
              "       width=\"24px\">\n",
              "    <path d=\"M0 0h24v24H0V0z\" fill=\"none\"/>\n",
              "    <path d=\"M18.56 5.44l.94 2.06.94-2.06 2.06-.94-2.06-.94-.94-2.06-.94 2.06-2.06.94zm-11 1L8.5 8.5l.94-2.06 2.06-.94-2.06-.94L8.5 2.5l-.94 2.06-2.06.94zm10 10l.94 2.06.94-2.06 2.06-.94-2.06-.94-.94-2.06-.94 2.06-2.06.94z\"/><path d=\"M17.41 7.96l-1.37-1.37c-.4-.4-.92-.59-1.43-.59-.52 0-1.04.2-1.43.59L10.3 9.45l-7.72 7.72c-.78.78-.78 2.05 0 2.83L4 21.41c.39.39.9.59 1.41.59.51 0 1.02-.2 1.41-.59l7.78-7.78 2.81-2.81c.8-.78.8-2.07 0-2.86zM5.41 20L4 18.59l7.72-7.72 1.47 1.35L5.41 20z\"/>\n",
              "  </svg>\n",
              "      </button>\n",
              "      \n",
              "  <style>\n",
              "    .colab-df-container {\n",
              "      display:flex;\n",
              "      flex-wrap:wrap;\n",
              "      gap: 12px;\n",
              "    }\n",
              "\n",
              "    .colab-df-convert {\n",
              "      background-color: #E8F0FE;\n",
              "      border: none;\n",
              "      border-radius: 50%;\n",
              "      cursor: pointer;\n",
              "      display: none;\n",
              "      fill: #1967D2;\n",
              "      height: 32px;\n",
              "      padding: 0 0 0 0;\n",
              "      width: 32px;\n",
              "    }\n",
              "\n",
              "    .colab-df-convert:hover {\n",
              "      background-color: #E2EBFA;\n",
              "      box-shadow: 0px 1px 2px rgba(60, 64, 67, 0.3), 0px 1px 3px 1px rgba(60, 64, 67, 0.15);\n",
              "      fill: #174EA6;\n",
              "    }\n",
              "\n",
              "    [theme=dark] .colab-df-convert {\n",
              "      background-color: #3B4455;\n",
              "      fill: #D2E3FC;\n",
              "    }\n",
              "\n",
              "    [theme=dark] .colab-df-convert:hover {\n",
              "      background-color: #434B5C;\n",
              "      box-shadow: 0px 1px 3px 1px rgba(0, 0, 0, 0.15);\n",
              "      filter: drop-shadow(0px 1px 2px rgba(0, 0, 0, 0.3));\n",
              "      fill: #FFFFFF;\n",
              "    }\n",
              "  </style>\n",
              "\n",
              "      <script>\n",
              "        const buttonEl =\n",
              "          document.querySelector('#df-f4a7db02-6b01-4919-946e-efff401782e4 button.colab-df-convert');\n",
              "        buttonEl.style.display =\n",
              "          google.colab.kernel.accessAllowed ? 'block' : 'none';\n",
              "\n",
              "        async function convertToInteractive(key) {\n",
              "          const element = document.querySelector('#df-f4a7db02-6b01-4919-946e-efff401782e4');\n",
              "          const dataTable =\n",
              "            await google.colab.kernel.invokeFunction('convertToInteractive',\n",
              "                                                     [key], {});\n",
              "          if (!dataTable) return;\n",
              "\n",
              "          const docLinkHtml = 'Like what you see? Visit the ' +\n",
              "            '<a target=\"_blank\" href=https://colab.research.google.com/notebooks/data_table.ipynb>data table notebook</a>'\n",
              "            + ' to learn more about interactive tables.';\n",
              "          element.innerHTML = '';\n",
              "          dataTable['output_type'] = 'display_data';\n",
              "          await google.colab.output.renderOutput(dataTable, element);\n",
              "          const docLink = document.createElement('div');\n",
              "          docLink.innerHTML = docLinkHtml;\n",
              "          element.appendChild(docLink);\n",
              "        }\n",
              "      </script>\n",
              "    </div>\n",
              "  </div>\n",
              "  "
            ]
          },
          "metadata": {},
          "execution_count": 31
        }
      ]
    },
    {
      "cell_type": "code",
      "source": [
        "#finding the maximum value of accuracy and printing corresponding \n",
        "#test_size value \n",
        "\n",
        "max_x = best.loc[best['Accuracy'].idxmax()]\n",
        "print( \"Maximum value of accuracy  and its corresponding test size values:\\n\", max_x)"
      ],
      "metadata": {
        "colab": {
          "base_uri": "https://localhost:8080/"
        },
        "id": "P6CbUK4oz8IU",
        "outputId": "3b7d9f4f-6cb7-4f71-e4e6-e00375944f7d"
      },
      "execution_count": 32,
      "outputs": [
        {
          "output_type": "stream",
          "name": "stdout",
          "text": [
            "Maximum value of accuracy  and its corresponding test size values:\n",
            " Test_size     0.212500\n",
            "Accuracy     85.789474\n",
            "Name: 225, dtype: float64\n"
          ]
        }
      ]
    },
    {
      "cell_type": "markdown",
      "source": [
        "**so we have, 85.78% as highest possible accuracy and the corresponding test_size is 0.2125**"
      ],
      "metadata": {
        "id": "fwpQkODA3Spu"
      }
    },
    {
      "cell_type": "code",
      "source": [
        "from matplotlib import markers\n",
        "x = [a]\n",
        "y = [op]\n",
        "\n",
        "import matplotlib.pyplot as plt\n",
        "plt.scatter(x,y,color='b',marker='*')\n",
        "plt.xlabel('test_size')\n",
        "plt.ylabel('accuracy ')\n",
        "plt.title('fig. test_size vs accuracy of a model')\n",
        "plt.show()"
      ],
      "metadata": {
        "colab": {
          "base_uri": "https://localhost:8080/",
          "height": 296
        },
        "id": "o1zLiCb-0uR6",
        "outputId": "6e57027d-6250-448f-c610-d73d5c2287c5"
      },
      "execution_count": 34,
      "outputs": [
        {
          "output_type": "display_data",
          "data": {
            "text/plain": [
              "<Figure size 432x288 with 1 Axes>"
            ],
            "image/png": "[encoded data removed]"
          },
          "metadata": {
            "needs_background": "light"
          }
        }
      ]
    },
    {
      "cell_type": "code",
      "source": [],
      "metadata": {
        "id": "PC62z7z02x-z"
      },
      "execution_count": null,
      "outputs": []
    }
  ]
}